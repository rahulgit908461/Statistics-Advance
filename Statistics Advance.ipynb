{
 "cells": [
  {
   "cell_type": "code",
   "execution_count": 1,
   "id": "87d5304a-7796-4ef2-8291-80f615242448",
   "metadata": {},
   "outputs": [],
   "source": [
    "#Q1. What is the Probability density function?"
   ]
  },
  {
   "cell_type": "code",
   "execution_count": 2,
   "id": "fc06e9d5-efaf-4ee5-a7f0-862fed399f45",
   "metadata": {},
   "outputs": [],
   "source": [
    "#The Probability Density Function(PDF) defines the probability function representing the density of a \n",
    "#continuous random variable lying between a specific range."
   ]
  },
  {
   "cell_type": "code",
   "execution_count": 3,
   "id": "31fe968b-a40e-41e1-af17-8088091786b6",
   "metadata": {},
   "outputs": [],
   "source": [
    "#Q2. What are the types of Probability distribution?"
   ]
  },
  {
   "cell_type": "code",
   "execution_count": 4,
   "id": "b58d1f92-1196-4a6c-83f2-cee368cfda98",
   "metadata": {},
   "outputs": [],
   "source": [
    "#There are two types of probability distributions: Discrete probability distributions.\n",
    "#Continuous probability distributions."
   ]
  },
  {
   "cell_type": "code",
   "execution_count": 5,
   "id": "ce7328c2-86d7-4969-8388-9e0c1b934eac",
   "metadata": {},
   "outputs": [],
   "source": [
    "#Q3. Write a Python function to calculate the probability density function of a normal distribution with\n",
    "#given mean and standard deviation at a given point."
   ]
  },
  {
   "cell_type": "code",
   "execution_count": 6,
   "id": "8f9d6096-f6ee-4ce9-8728-a6b97542bcec",
   "metadata": {},
   "outputs": [],
   "source": [
    "# Ans The general formula to calculate PDF for the normal distribution is\n",
    "# pdf = (1 / std Deviation of Distribution * under root 2 pie) * e to the power -1/2(x-mean/std deviation of distribution)2     \n",
    "    "
   ]
  },
  {
   "cell_type": "code",
   "execution_count": 7,
   "id": "ed471eeb-b6d4-448f-a976-559251265b5f",
   "metadata": {},
   "outputs": [],
   "source": [
    "#Q4. What are the properties of Binomial distribution? Give two examples of events where binomial\n",
    "#distribution can be applied."
   ]
  },
  {
   "cell_type": "code",
   "execution_count": 9,
   "id": "8239e487-6fdf-4fa7-b1c1-a7f8b127cb54",
   "metadata": {},
   "outputs": [],
   "source": [
    "#Ans -The properties of the binomial distribution are: There are two possible outcomes: true or false, \n",
    "#success or failure, yes or no. There is 'n' number of independent trials or a fixed number of n times \n",
    "#repeated trials. The probability of success or failure remains the same for each trial.\n",
    "#if we toss a coin, there could be only two possible outcomes: heads or tails, and if any test is \n",
    "#taken, then there could be only two results: pass or fail. This distribution is also called a binomial \n",
    "#probability distribution."
   ]
  },
  {
   "cell_type": "code",
   "execution_count": 10,
   "id": "adb647f3-cfa0-4312-aba1-1cd15a2e38fc",
   "metadata": {},
   "outputs": [],
   "source": [
    "#Q. Generate a random sample of size 1000 from a binomial distribution with probability of success 0.4\n",
    "# and plot a histogram of the results using matplotlib.\n"
   ]
  },
  {
   "cell_type": "code",
   "execution_count": 11,
   "id": "9a8af9a7-3c63-4f96-813e-8a1c8838c03d",
   "metadata": {},
   "outputs": [],
   "source": [
    "#Ans. P(N)= n ! k *p(1-p) power n-k"
   ]
  },
  {
   "cell_type": "code",
   "execution_count": 12,
   "id": "79c62317-44ec-4415-9eee-c5e6720b521c",
   "metadata": {},
   "outputs": [],
   "source": [
    "#Q6. Write a Python function to calculate the cumulative distribution function of a Poisson distribution\n",
    "#with given mean at a given point."
   ]
  },
  {
   "cell_type": "code",
   "execution_count": 13,
   "id": "04bf887d-ff23-45b0-8349-3d7c86b65298",
   "metadata": {},
   "outputs": [],
   "source": [
    "#Ans CDF can be calculated using PDF (Probability Distribution Function). Each point of random variable \n",
    "#will contribute cumulatively to form CDF.\n",
    "#The Poisson cumulative distribution function lets you obtain the probability of an event occurring \n",
    "#within a given time or space interval less than or equal to x times if on average the event occurs λ \n",
    "#times within that interval.\n",
    "\n",
    "#The Poisson cumulative distribution function for the given values x and λ is\n",
    "# p= F(x/lembada)= (e to power -lembada) * (Sametion of lembada / !i)"
   ]
  },
  {
   "cell_type": "code",
   "execution_count": 14,
   "id": "5bfcd070-066c-4e98-ae23-cafbb1dfbee8",
   "metadata": {},
   "outputs": [],
   "source": [
    "#Q7. . How Binomial distribution different from Poisson distribution?"
   ]
  },
  {
   "cell_type": "code",
   "execution_count": 15,
   "id": "89b58f72-e34f-4171-9143-a6b3e6e62d09",
   "metadata": {},
   "outputs": [],
   "source": [
    "# Ans Binomial distribution describes the distribution of binary data from a finite sample. Thus \n",
    "#it gives the probability of getting r events out of n trials. Poisson distribution describes the \n",
    "#distribution of binary data from an infinite sample. Thus it gives the probability of getting r events\n",
    "#in a population."
   ]
  },
  {
   "cell_type": "code",
   "execution_count": 16,
   "id": "333ff9f1-40ca-407c-b314-5f0c7e5a08c2",
   "metadata": {},
   "outputs": [],
   "source": [
    "#9. How mean and variance are related in Binomial distribution and Poisson distribution?"
   ]
  },
  {
   "cell_type": "code",
   "execution_count": 17,
   "id": "3c4ba34d-015d-4be1-abf1-8026d44595aa",
   "metadata": {},
   "outputs": [],
   "source": [
    "#The mean and the variance of the Poisson distribution are the same, which is equal to the average \n",
    "#number of successes that occur in the given interval of time."
   ]
  },
  {
   "cell_type": "code",
   "execution_count": null,
   "id": "a09efecb-524c-4370-b381-7d1f138f658f",
   "metadata": {},
   "outputs": [],
   "source": [
    "#Q10.  In normal distribution with respect to mean position, where does the least frequent data appear?"
   ]
  }
 ],
 "metadata": {
  "kernelspec": {
   "display_name": "Python 3 (ipykernel)",
   "language": "python",
   "name": "python3"
  },
  "language_info": {
   "codemirror_mode": {
    "name": "ipython",
    "version": 3
   },
   "file_extension": ".py",
   "mimetype": "text/x-python",
   "name": "python",
   "nbconvert_exporter": "python",
   "pygments_lexer": "ipython3",
   "version": "3.10.8"
  }
 },
 "nbformat": 4,
 "nbformat_minor": 5
}
